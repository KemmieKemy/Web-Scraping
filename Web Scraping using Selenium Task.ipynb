{
 "cells": [
  {
   "cell_type": "markdown",
   "metadata": {},
   "source": [
    "# Task\n",
    "Get several companies data in New Zealand. <br>\n",
    "The website is: [Company's Website](https://companies-register.companiesoffice.govt.nz) <br>\n",
    "**Do an advance search using the criteria:**\n",
    "- Tick the “search for entity button”\n",
    "- Entity Type: All\n",
    "- Entity Status: Registered\n",
    "- Address type: All\n",
    "- Address keyword: East Tamaki\n",
    "- Leave the others blank. <br>\n",
    "*Hit: The first company there is; NAND COPORATION LIMITED.*<br>\n",
    "\n",
    "**Scrape the following details under shareholders for each company into a spreadsheet:**\n",
    "* Name of the company\n",
    "* Registration number\n",
    "* Name of shareholder\n",
    "* Shareholder address\n",
    "* Percentage share of shareholder\n",
    "* Shareholder allocation number\n",
    "* Role of shareholder"
   ]
  },
  {
   "cell_type": "code",
   "execution_count": 1,
   "metadata": {},
   "outputs": [],
   "source": [
    "#import libraries\n",
    "import numpy as np\n",
    "import pandas as pd\n",
    "from selenium import webdriver\n",
    "from bs4 import BeautifulSoup"
   ]
  },
  {
   "cell_type": "code",
   "execution_count": 3,
   "metadata": {},
   "outputs": [],
   "source": [
    "chrome_path = \"C:/Users/User/Downloads/chromedriver_win32/chromedriver.exe\"\n",
    "driver = webdriver.Chrome(chrome_path)\n",
    "url = 'https://app.companiesoffice.govt.nz/companies/app/ui/pages/companies/search?q=&entityTypes=ALL&entityStatusGroups=REGISTERED&incorpFrom=&incorpTo=&addressTypes=ALL&addressKeyword=East+Tamaki&start=0&limit=15&sf=&sd=&advancedPanel=true&mode=advanced#results'\n",
    "driver.get(url)\n",
    "\n",
    "content = driver.page_source\n",
    "soup = BeautifulSoup(content, \"html.parser\")"
   ]
  },
  {
   "cell_type": "code",
   "execution_count": 2,
   "metadata": {},
   "outputs": [],
   "source": [
    "#Empty List to store data\n",
    "company_names = [] #Name of the company\n",
    "reg_nums = [] #Registration number\n",
    "sh_names = [] #Name of shareholder\n",
    "sh_adds = [] #Shareholder's address\n",
    "sh_percentages = [] #Percentage share of shareholder\n",
    "sh_all_nums = [] #Shareholder allocation number\n",
    "sh_roles = [] #Role of shareholder"
   ]
  },
  {
   "cell_type": "code",
   "execution_count": null,
   "metadata": {},
   "outputs": [],
   "source": [
    "# Extract data from Website"
   ]
  },
  {
   "cell_type": "code",
   "execution_count": null,
   "metadata": {},
   "outputs": [],
   "source": [
    "#Saving data into Dataframe\n",
    "df = pd.DataFrame({'Name of the Company':company_names, 'Registration Number':reg_nums, 'Name of Shareholder':sh_names,\n",
    "                  'Shareholder address':sh_adds, 'Percentage Share of Shareholder': sh_percentages, \n",
    "                   'Shareholder Allocation Number':sh_all_nums, 'Role of shareholder':sh_roles})\n",
    "\n",
    "#Saving data into CSV file\n",
    "df.to_csv('Companies_data.csv', index=False, encoding='utf-8')"
   ]
  }
 ],
 "metadata": {
  "kernelspec": {
   "display_name": "Python 3",
   "language": "python",
   "name": "python3"
  },
  "language_info": {
   "codemirror_mode": {
    "name": "ipython",
    "version": 3
   },
   "file_extension": ".py",
   "mimetype": "text/x-python",
   "name": "python",
   "nbconvert_exporter": "python",
   "pygments_lexer": "ipython3",
   "version": "3.7.6"
  }
 },
 "nbformat": 4,
 "nbformat_minor": 4
}
